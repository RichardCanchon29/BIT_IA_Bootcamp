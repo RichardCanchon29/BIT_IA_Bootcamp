{
  "nbformat": 4,
  "nbformat_minor": 0,
  "metadata": {
    "colab": {
      "provenance": [],
      "authorship_tag": "ABX9TyM/5AH549i1oRil8CGc57kg",
      "include_colab_link": true
    },
    "kernelspec": {
      "name": "python3",
      "display_name": "Python 3"
    },
    "language_info": {
      "name": "python"
    }
  },
  "cells": [
    {
      "cell_type": "markdown",
      "metadata": {
        "id": "view-in-github",
        "colab_type": "text"
      },
      "source": [
        "<a href=\"https://colab.research.google.com/github/RichardCanchon29/BIT_IA_Bootcamp/blob/main/S1_Clase_1_Caso_Interes_Compuesto.ipynb\" target=\"_parent\"><img src=\"https://colab.research.google.com/assets/colab-badge.svg\" alt=\"Open In Colab\"/></a>"
      ]
    },
    {
      "cell_type": "markdown",
      "source": [
        "#**Semana 1 Clase 1**\n",
        "Caso: Indicadores Financieros\n",
        "\n",
        "Reto : Tengo $1.000.000  quiero duplicarlos \n",
        "¿Cuánto tiempo tardaré en duplicar mi dinero si la tasa de interés anual es del 8.5%, con una capitalización anual?\n"
      ],
      "metadata": {
        "id": "iAgyUJkNa0Ey"
      }
    },
    {
      "cell_type": "markdown",
      "source": [
        "Actividad 1: Programar la **Funcion**"
      ],
      "metadata": {
        "id": "yeGkZgJ-33kk"
      }
    },
    {
      "cell_type": "code",
      "execution_count": null,
      "metadata": {
        "id": "bFlFFNLIZ6wD"
      },
      "outputs": [],
      "source": [
        "import math"
      ]
    },
    {
      "cell_type": "code",
      "source": [
        "P = 1000000\n",
        "A = 2*P\n",
        "i = 0.085\n",
        "n = math.log(A/P) / (math.log(1+i))\n",
        "n = round (n,2)\n",
        "print(n)"
      ],
      "metadata": {
        "colab": {
          "base_uri": "https://localhost:8080/"
        },
        "id": "KyxZor6ckGvO",
        "outputId": "9420de7b-834c-4588-faad-9216717fc12d"
      },
      "execution_count": null,
      "outputs": [
        {
          "output_type": "stream",
          "name": "stdout",
          "text": [
            "8.5\n"
          ]
        }
      ]
    },
    {
      "cell_type": "markdown",
      "source": [
        "Actividad 2 **Funcion de # de periodos**"
      ],
      "metadata": {
        "id": "kcwUeo4e4ADs"
      }
    },
    {
      "cell_type": "code",
      "source": [
        "import math"
      ],
      "metadata": {
        "id": "t7EvE8zAFm6K"
      },
      "execution_count": null,
      "outputs": []
    },
    {
      "cell_type": "code",
      "source": [
        "def tiempo_incrementarCapital (P,i,r):\n",
        "    A = i*P\n",
        "    n = math.log(A/P) / (math.log (1+r))\n",
        "    n = round(n, 2)\n",
        "    print(\"el tiempo para duplicar el capital es: \" + str(n) + \" años\")\n",
        "    return n"
      ],
      "metadata": {
        "id": "xy1yuCLkFu86"
      },
      "execution_count": null,
      "outputs": []
    },
    {
      "cell_type": "code",
      "source": [
        "print(tiempo_incrementarCapital(800000,2,0.085))"
      ],
      "metadata": {
        "colab": {
          "base_uri": "https://localhost:8080/"
        },
        "id": "iFkB4REpKBtb",
        "outputId": "5caefc79-65d2-4480-c21b-f46f4d20a0e5"
      },
      "execution_count": null,
      "outputs": [
        {
          "output_type": "stream",
          "name": "stdout",
          "text": [
            "el tiempo para duplicar el capital es: 8.5 años\n",
            "8.5\n"
          ]
        }
      ]
    },
    {
      "cell_type": "markdown",
      "source": [
        "Activida 3 **Valor Futuro**"
      ],
      "metadata": {
        "id": "DlERtuXJBkIo"
      }
    },
    {
      "cell_type": "code",
      "source": [
        "def valor_futuro (P,i,n):\n",
        "  A = P*(1+i)**n\n",
        "  return A\n",
        "  n = round(n, 0)"
      ],
      "metadata": {
        "id": "ttCb_8XgBl3w"
      },
      "execution_count": null,
      "outputs": []
    },
    {
      "cell_type": "code",
      "source": [
        "valor_futuro(1000000,0.085,10)\n",
        "print(valorfuruto)"
      ],
      "metadata": {
        "colab": {
          "base_uri": "https://localhost:8080/"
        },
        "id": "B9mA_TUGBtyN",
        "outputId": "2e43be22-7d42-47de-ebe6-9605b37eb574"
      },
      "execution_count": null,
      "outputs": [
        {
          "output_type": "stream",
          "name": "stdout",
          "text": [
            "2260983.441917433\n"
          ]
        }
      ]
    },
    {
      "cell_type": "markdown",
      "source": [
        "Actividad 4 **Capital Inicial**"
      ],
      "metadata": {
        "id": "flRvzB_c-lBP"
      }
    },
    {
      "cell_type": "code",
      "source": [
        "import math"
      ],
      "metadata": {
        "id": "k74w9E5RLRY4"
      },
      "execution_count": null,
      "outputs": []
    },
    {
      "cell_type": "code",
      "source": [
        "def capital_Inicial (A,i,n):\n",
        "  P = A/(1 + i)**n\n",
        "  return P"
      ],
      "metadata": {
        "id": "UdwENfdF-kuJ"
      },
      "execution_count": null,
      "outputs": []
    },
    {
      "cell_type": "code",
      "source": [
        "capital_Inicial (260983,0.085,24)"
      ],
      "metadata": {
        "colab": {
          "base_uri": "https://localhost:8080/"
        },
        "id": "Vdyza7tpLojx",
        "outputId": "545c7e02-99f4-46bc-ff7b-4d462a4fd6f0"
      },
      "execution_count": null,
      "outputs": [
        {
          "output_type": "execute_result",
          "data": {
            "text/plain": [
              "1521265.7756368092"
            ]
          },
          "metadata": {},
          "execution_count": 70
        }
      ]
    },
    {
      "cell_type": "markdown",
      "source": [
        "# **Actvidad 5 **\n",
        "\n",
        "Un coadigo para seleccionar el parametro a calcular de funcion de interes compuesto"
      ],
      "metadata": {
        "id": "2E9CjyQWf-yf"
      }
    }
  ]
}