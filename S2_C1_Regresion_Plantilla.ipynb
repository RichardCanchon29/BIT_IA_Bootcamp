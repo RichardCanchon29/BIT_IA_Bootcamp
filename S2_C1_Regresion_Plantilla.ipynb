{
  "nbformat": 4,
  "nbformat_minor": 0,
  "metadata": {
    "colab": {
      "provenance": [],
      "include_colab_link": true
    },
    "kernelspec": {
      "name": "python3",
      "display_name": "Python 3"
    },
    "language_info": {
      "name": "python"
    }
  },
  "cells": [
    {
      "cell_type": "markdown",
      "metadata": {
        "id": "view-in-github",
        "colab_type": "text"
      },
      "source": [
        "<a href=\"https://colab.research.google.com/github/RichardCanchon29/BIT_IA_Bootcamp/blob/main/S2_C1_Regresion_Plantilla.ipynb\" target=\"_parent\"><img src=\"https://colab.research.google.com/assets/colab-badge.svg\" alt=\"Open In Colab\"/></a>"
      ]
    },
    {
      "cell_type": "code",
      "source": [
        "from google.colab import drive\n",
        "drive.mount('/content/drive')"
      ],
      "metadata": {
        "id": "Uxi4LlvonLkR",
        "colab": {
          "base_uri": "https://localhost:8080/"
        },
        "outputId": "6f83fc0b-54ec-4cf7-8eec-f442cb86be89"
      },
      "execution_count": 3,
      "outputs": [
        {
          "output_type": "stream",
          "name": "stdout",
          "text": [
            "Drive already mounted at /content/drive; to attempt to forcibly remount, call drive.mount(\"/content/drive\", force_remount=True).\n"
          ]
        }
      ]
    },
    {
      "cell_type": "markdown",
      "source": [
        "**Modelos de Regresión Lineal**\n",
        "\n",
        "\n",
        "\n",
        "1. Cree una carpeta en drive  'Models'\n",
        "2. Guarde los archivos .plk\n",
        "3. Actualice las ruta de la carpeta\n",
        "\n",
        "\n"
      ],
      "metadata": {
        "id": "TXyBVqcvO4q6"
      }
    },
    {
      "cell_type": "code",
      "source": [
        "from google.colab import drive\n",
        "drive.mount('/content/drive')\n",
        "import os"
      ],
      "metadata": {
        "colab": {
          "base_uri": "https://localhost:8080/"
        },
        "id": "qcde1eTGmRE2",
        "outputId": "8602d3a0-0914-4bf7-f651-d009fbcc068c"
      },
      "execution_count": 1,
      "outputs": [
        {
          "output_type": "stream",
          "name": "stdout",
          "text": [
            "Mounted at /content/drive\n"
          ]
        }
      ]
    },
    {
      "cell_type": "code",
      "source": [
        "# Se envia el documento consolidado a la carpeta SAC_NOTAS_CONSOLIDADO\n",
        "os.chdir('/content/drive/MyDrive/Bootcamp_en_Inteligencias_Artificial/Colab Notebooks/Models')\n",
        "os.listdir()"
      ],
      "metadata": {
        "colab": {
          "base_uri": "https://localhost:8080/"
        },
        "id": "udSohMnnooTw",
        "outputId": "46b55a0f-87af-4bed-d555-db0640f86333"
      },
      "execution_count": 4,
      "outputs": [
        {
          "output_type": "execute_result",
          "data": {
            "text/plain": [
              "['linear_regression_modelVF.pkl', 'poly_regression_modelVF.pkl']"
            ]
          },
          "metadata": {},
          "execution_count": 4
        }
      ]
    },
    {
      "cell_type": "markdown",
      "source": [
        "\n",
        "\n",
        "# Actividad 1.\n",
        "\n",
        "1. Ingrese un valor  y realice una prediccion con el modelo lineal\n",
        "\n"
      ],
      "metadata": {
        "id": "DX9jzaoLQJm5"
      }
    },
    {
      "cell_type": "code",
      "execution_count": 7,
      "metadata": {
        "id": "kA55dPTpAyMC"
      },
      "outputs": [],
      "source": [
        "import joblib\n",
        "# Cargar el modelo desde el archivo\n",
        "loaded_model = joblib.load('linear_regression_modelVF.pkl')"
      ]
    },
    {
      "cell_type": "code",
      "source": [
        "# Hacer predicciones con el modelo cargado\n",
        "print(\"Predicción del Ingreso Anual a partir de las Compras en productos de Carne \")\n",
        "\n",
        "opcion = int(input(\"Ingrese el valor de compras en carne\"))\n",
        "predicted_class = loaded_model.predict([[opcion]])\n",
        "\n",
        "print(f\"EL ingreso anual de esta persona  es de : {predicted_class}\")"
      ],
      "metadata": {
        "id": "R1c9t7TYm69e",
        "colab": {
          "base_uri": "https://localhost:8080/"
        },
        "outputId": "f927649e-d667-42b2-d91f-bd88d2192cb9"
      },
      "execution_count": 9,
      "outputs": [
        {
          "output_type": "stream",
          "name": "stdout",
          "text": [
            "Predicción del Ingreso Anual a partir de las Compras en productos de Carne \n",
            "Ingrese el valor de compras en carne1000\n",
            "EL ingreso anual de esta persona  es de : [138339.11811235]\n"
          ]
        },
        {
          "output_type": "stream",
          "name": "stderr",
          "text": [
            "/usr/local/lib/python3.10/dist-packages/sklearn/base.py:493: UserWarning: X does not have valid feature names, but LinearRegression was fitted with feature names\n",
            "  warnings.warn(\n"
          ]
        }
      ]
    },
    {
      "cell_type": "markdown",
      "source": [
        "# Actividad 2.\n",
        "\n",
        "1. Cargue el modelo de regresión polinómica\n",
        "2. Ingrese un valor  y realice una prediccion con el modelo polinómico"
      ],
      "metadata": {
        "id": "YE9ot9lsQ6qK"
      }
    },
    {
      "cell_type": "code",
      "source": [
        "# Cargar el modelo desde el archivo\n",
        "loaded_model_poly= joblib.load('poly_regression_modelVF.pkl')"
      ],
      "metadata": {
        "id": "f3EkhTFpxpwm"
      },
      "execution_count": 24,
      "outputs": []
    },
    {
      "cell_type": "code",
      "source": [
        "print(\"Predicción del Ingreso Anual a partir de las Compras en productos de Carne \")\n",
        "opcion = int(input(\"Ingrese el valor de compras en carne \"))\n",
        "\n",
        "def arreglo (opcion):\n",
        "   return [1, opcion, opcion**2]\n",
        "\n",
        "x_test= arreglo(opcion)\n",
        "predicted_class = loaded_model_poly.predict([x_test])\n",
        "predicted_class\n",
        "\n"
      ],
      "metadata": {
        "colab": {
          "base_uri": "https://localhost:8080/"
        },
        "id": "Ce__w1Unxzdy",
        "outputId": "3da72606-18a0-46fe-9cda-74359d685ed6"
      },
      "execution_count": 31,
      "outputs": [
        {
          "name": "stdout",
          "output_type": "stream",
          "text": [
            "Predicción del Ingreso Anual a partir de las Compras en productos de Carne \n",
            "Ingrese el valor de compras en carne 300\n"
          ]
        },
        {
          "output_type": "execute_result",
          "data": {
            "text/plain": [
              "array([74196.1287516])"
            ]
          },
          "metadata": {},
          "execution_count": 31
        }
      ]
    },
    {
      "cell_type": "code",
      "source": [
        "\n"
      ],
      "metadata": {
        "id": "gYknB9DLQZzL"
      },
      "execution_count": null,
      "outputs": []
    },
    {
      "cell_type": "markdown",
      "source": [
        "# Actividad 3.\n",
        "\n",
        "1. Modique que codigo para que con el mismo datos prediga con los dos modelos\n",
        "2. Realice un ciclo FOR que 5 valores ingresados por teclado\n",
        "3. Grafiquelo Scatter ('los inputs: MntMeat', income')"
      ],
      "metadata": {
        "id": "rOuAAPVIQ8s2"
      }
    },
    {
      "cell_type": "code",
      "source": [
        "# Creamos una lista vacía para almacenar los valores\n",
        "valores = []\n",
        "\n",
        "# Usamos un ciclo FOR para pedir 5 valores\n",
        "for i in range(5):\n",
        "    valor = input(f\"Ingrese el valor #{i+1}: \")\n",
        "    valores.append(valor)\n",
        "\n",
        "# Imprimimos los valores ingresados\n",
        "print(\"Los valores que ingresó son:\")\n",
        "for valor in valores:\n",
        "    print(valor)"
      ],
      "metadata": {
        "id": "GnGvv9HjQotS",
        "colab": {
          "base_uri": "https://localhost:8080/"
        },
        "outputId": "22f009b0-5332-4fd2-9928-b1895d08d3f3"
      },
      "execution_count": 20,
      "outputs": [
        {
          "output_type": "stream",
          "name": "stdout",
          "text": [
            "Ingrese el valor #1: 52\n",
            "Ingrese el valor #2: 35\n",
            "Ingrese el valor #3: 98\n",
            "Ingrese el valor #4: 100\n",
            "Ingrese el valor #5: 350\n",
            "Los valores que ingresó son:\n",
            "52\n",
            "35\n",
            "98\n",
            "100\n",
            "350\n"
          ]
        }
      ]
    }
  ]
}