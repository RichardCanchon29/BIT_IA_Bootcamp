{
  "nbformat": 4,
  "nbformat_minor": 0,
  "metadata": {
    "colab": {
      "provenance": [],
      "authorship_tag": "ABX9TyMXavOUoi6dwjpSYNvZLwCE",
      "include_colab_link": true
    },
    "kernelspec": {
      "name": "python3",
      "display_name": "Python 3"
    },
    "language_info": {
      "name": "python"
    }
  },
  "cells": [
    {
      "cell_type": "markdown",
      "metadata": {
        "id": "view-in-github",
        "colab_type": "text"
      },
      "source": [
        "<a href=\"https://colab.research.google.com/github/RichardCanchon29/BIT_IA_Bootcamp/blob/main/S1_Clase_3_Numero_Primo.ipynb\" target=\"_parent\"><img src=\"https://colab.research.google.com/assets/colab-badge.svg\" alt=\"Open In Colab\"/></a>"
      ]
    },
    {
      "cell_type": "markdown",
      "source": [
        "# **Numero Primo **\n",
        "\n",
        "Diseñar una función **Es_primo(numero)** toma un número como entrada y determina si es un número primo.\n",
        "DEFINICIÓN: Un número primo es aquel que solo tiene dos divisores: 1 y él mismo.  Si el número es divisible por cualquier otro número aparte de 1 y él mismo, no es primo.\n",
        "Parámetros: numero (int): El número que queremos verificar si es primo.\n",
        "Return: bool: True si el número es primo, False si no lo es.\n",
        "\n",
        "*   Los numeros menores que 2 no son primos\n",
        "*   Elemento de lista\n",
        "\n"
      ],
      "metadata": {
        "id": "fnyxxsS675pi"
      }
    },
    {
      "cell_type": "code",
      "source": [
        "def es_primo(numero):\n",
        "  if numero < 2:\n",
        "   return False\n",
        "   # Range (inicio, fin paso)\n",
        "\n",
        "   for i in range(2, numero):\n",
        "    # Numero divido % i\n",
        "     # si es 0 es entero entonces es divisible,\n",
        "     # si es = a 1 si es decimal no es divisivel\n",
        "    if numero % i == 0:\n",
        "      return True\n",
        "  return False\n",
        ""
      ],
      "metadata": {
        "id": "dRjvgz3U8QKU"
      },
      "execution_count": 67,
      "outputs": []
    },
    {
      "cell_type": "code",
      "source": [
        "es_primo(32)"
      ],
      "metadata": {
        "colab": {
          "base_uri": "https://localhost:8080/"
        },
        "id": "7T404xM3FRvM",
        "outputId": "1d5890e6-d4b1-474e-a159-f4c9f4f021ed"
      },
      "execution_count": 68,
      "outputs": [
        {
          "output_type": "execute_result",
          "data": {
            "text/plain": [
              "False"
            ]
          },
          "metadata": {},
          "execution_count": 68
        }
      ]
    },
    {
      "cell_type": "code",
      "source": [
        "numero = 11\n",
        "j = 0\n",
        "for i in range(2, numero):\n",
        "    # numero % i\n",
        "    # = 0  es entero entonces es divisible,\n",
        "    # = 1  es decimal no es divisible\n",
        "    resultado = numero / i\n",
        "    if numero % i == 0:\n",
        "      j = j + 1\n",
        "      print(\"enter al i==0\" +str(j)+\"veces\")\n",
        "      print(\"en la iteraccion \"+ str(i)+ \" el numero no es divisible\")\n",
        "    else:\n",
        "      print(\"en la interacion \"+ str(i)+ \" el numero es divisible\")\n",
        ""
      ],
      "metadata": {
        "colab": {
          "base_uri": "https://localhost:8080/"
        },
        "id": "wk-6vLBPDJCb",
        "outputId": "fed64f0d-d1f5-4846-e04c-ea2beeea7df3"
      },
      "execution_count": 71,
      "outputs": [
        {
          "output_type": "stream",
          "name": "stdout",
          "text": [
            "en la interacion 2 el numero es divisible\n",
            "en la interacion 3 el numero es divisible\n",
            "en la interacion 4 el numero es divisible\n",
            "en la interacion 5 el numero es divisible\n",
            "en la interacion 6 el numero es divisible\n",
            "en la interacion 7 el numero es divisible\n",
            "en la interacion 8 el numero es divisible\n",
            "en la interacion 9 el numero es divisible\n",
            "en la interacion 10 el numero es divisible\n"
          ]
        }
      ]
    },
    {
      "cell_type": "code",
      "source": [
        "es_primo(11)"
      ],
      "metadata": {
        "colab": {
          "base_uri": "https://localhost:8080/"
        },
        "id": "aKZl2F0oFAt6",
        "outputId": "892a4a77-b038-4c76-eaaf-9c6acaf88e35"
      },
      "execution_count": 55,
      "outputs": [
        {
          "output_type": "execute_result",
          "data": {
            "text/plain": [
              "True"
            ]
          },
          "metadata": {},
          "execution_count": 55
        }
      ]
    },
    {
      "cell_type": "code",
      "source": [
        "10 % 9"
      ],
      "metadata": {
        "colab": {
          "base_uri": "https://localhost:8080/"
        },
        "id": "1dNqSl_a9G_i",
        "outputId": "3dbdaac9-d107-4e50-f9df-97060a86fc64"
      },
      "execution_count": 13,
      "outputs": [
        {
          "output_type": "execute_result",
          "data": {
            "text/plain": [
              "1"
            ]
          },
          "metadata": {},
          "execution_count": 13
        }
      ]
    },
    {
      "cell_type": "code",
      "source": [
        "10 / 9"
      ],
      "metadata": {
        "colab": {
          "base_uri": "https://localhost:8080/"
        },
        "id": "uwu_V_9QBCdS",
        "outputId": "3b2f48e4-ab93-4acd-8290-d9912741fb2b"
      },
      "execution_count": 14,
      "outputs": [
        {
          "output_type": "execute_result",
          "data": {
            "text/plain": [
              "1.1111111111111112"
            ]
          },
          "metadata": {},
          "execution_count": 14
        }
      ]
    }
  ]
}